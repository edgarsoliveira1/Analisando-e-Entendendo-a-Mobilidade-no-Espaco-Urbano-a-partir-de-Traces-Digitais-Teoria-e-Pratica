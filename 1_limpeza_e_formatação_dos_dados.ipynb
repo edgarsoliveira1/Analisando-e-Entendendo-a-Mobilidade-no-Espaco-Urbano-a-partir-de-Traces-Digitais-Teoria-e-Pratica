{
 "cells": [
  {
   "cell_type": "code",
   "execution_count": 16,
   "metadata": {},
   "outputs": [],
   "source": [
    "from datetime import datetime\n",
    "from tqdm import tqdm\n",
    "import pandas as pd\n",
    "import json"
   ]
  },
  {
   "cell_type": "code",
   "execution_count": 17,
   "metadata": {},
   "outputs": [],
   "source": [
    "raw_train = pd.read_csv('./Taxi Trajectory Prediction/train.csv')"
   ]
  },
  {
   "cell_type": "code",
   "execution_count": 18,
   "metadata": {},
   "outputs": [
    {
     "name": "stdout",
     "output_type": "stream",
     "text": [
      "Número de trajetórias antes da limpeza: 1710670\n"
     ]
    }
   ],
   "source": [
    "print(f'Número de trajetórias antes da limpeza: {len(raw_train)}')"
   ]
  },
  {
   "cell_type": "code",
   "execution_count": 19,
   "metadata": {},
   "outputs": [],
   "source": [
    "# Remove instancias como 'MISSING_DATA'\n",
    "raw_train_df = raw_train[raw_train['MISSING_DATA'] == False]"
   ]
  },
  {
   "cell_type": "code",
   "execution_count": 20,
   "metadata": {},
   "outputs": [],
   "source": [
    "# Remove colunas com dados faltantes ou pouco relevantes = DAY_TYPE, MISSING_DATA, ORIGIN_STAND, ORIGIN_CALL\n",
    "raw_train.drop(columns=['DAY_TYPE', 'MISSING_DATA', 'ORIGIN_STAND', 'ORIGIN_CALL'], inplace=True)"
   ]
  },
  {
   "cell_type": "code",
   "execution_count": 21,
   "metadata": {},
   "outputs": [
    {
     "name": "stdout",
     "output_type": "stream",
     "text": [
      "Número de trajetórias antes da limpeza: 1710670\n"
     ]
    }
   ],
   "source": [
    "print(f'Número de trajetórias antes da limpeza: {len(raw_train)}')"
   ]
  },
  {
   "cell_type": "code",
   "execution_count": 22,
   "metadata": {},
   "outputs": [
    {
     "data": {
      "text/plain": [
       "855"
      ]
     },
     "execution_count": 22,
     "metadata": {},
     "output_type": "execute_result"
    }
   ],
   "source": [
    "# Retira uma amostra com tamanho de 0.05% do dataset apos limpeza\n",
    "sample_train = raw_train_df.sample(frac=0.0005, random_state=3)\n",
    "len(sample_train)"
   ]
  },
  {
   "cell_type": "code",
   "execution_count": 23,
   "metadata": {},
   "outputs": [],
   "source": [
    "formatted_sample = pd.DataFrame({\n",
    "  'taxi_id': pd.Series(dtype='int'),\n",
    "  'lat': pd.Series(dtype='float'),\n",
    "  'lng': pd.Series(dtype='float'),\n",
    "  'timestamp': pd.Series(dtype='int'),\n",
    "  'trip_id': pd.Series(dtype='int'),\n",
    "  'call_type': pd.Series(dtype='str'),\n",
    "})"
   ]
  },
  {
   "cell_type": "code",
   "execution_count": 24,
   "metadata": {},
   "outputs": [
    {
     "name": "stderr",
     "output_type": "stream",
     "text": [
      "855it [03:24,  4.18it/s]\n"
     ]
    }
   ],
   "source": [
    "for index, row in tqdm(sample_train.iterrows()):\n",
    "  taxi_id = row['TAXI_ID']\n",
    "  timestamp = row['TIMESTAMP']\n",
    "  trip_id = row['TRIP_ID']\n",
    "  call_type = row['CALL_TYPE']\n",
    "  polyline = json.loads(row['POLYLINE'])\n",
    "  for index, coor in enumerate(polyline):\n",
    "    new_row = pd.DataFrame({\n",
    "      'taxi_id': int(taxi_id),\n",
    "      'lat': coor[1],\n",
    "      'lng': coor[0], \n",
    "      'timestamp': datetime.fromtimestamp(timestamp + index *  15),\n",
    "      'trip_id': int(trip_id),\n",
    "      'call_type': str(call_type),\n",
    "      }, index=[0])\n",
    "    formatted_sample = pd.concat([new_row, formatted_sample[:]]).reset_index(drop=True)"
   ]
  },
  {
   "cell_type": "code",
   "execution_count": 25,
   "metadata": {},
   "outputs": [
    {
     "data": {
      "text/html": [
       "<div>\n",
       "<style scoped>\n",
       "    .dataframe tbody tr th:only-of-type {\n",
       "        vertical-align: middle;\n",
       "    }\n",
       "\n",
       "    .dataframe tbody tr th {\n",
       "        vertical-align: top;\n",
       "    }\n",
       "\n",
       "    .dataframe thead th {\n",
       "        text-align: right;\n",
       "    }\n",
       "</style>\n",
       "<table border=\"1\" class=\"dataframe\">\n",
       "  <thead>\n",
       "    <tr style=\"text-align: right;\">\n",
       "      <th></th>\n",
       "      <th>taxi_id</th>\n",
       "      <th>lat</th>\n",
       "      <th>lng</th>\n",
       "      <th>timestamp</th>\n",
       "      <th>trip_id</th>\n",
       "      <th>call_type</th>\n",
       "    </tr>\n",
       "  </thead>\n",
       "  <tbody>\n",
       "    <tr>\n",
       "      <th>0</th>\n",
       "      <td>20000648</td>\n",
       "      <td>41.158260</td>\n",
       "      <td>-8.682777</td>\n",
       "      <td>2013-09-20 22:36:04</td>\n",
       "      <td>1379726734620000648</td>\n",
       "      <td>B</td>\n",
       "    </tr>\n",
       "    <tr>\n",
       "      <th>1</th>\n",
       "      <td>20000648</td>\n",
       "      <td>41.158251</td>\n",
       "      <td>-8.682786</td>\n",
       "      <td>2013-09-20 22:35:49</td>\n",
       "      <td>1379726734620000648</td>\n",
       "      <td>B</td>\n",
       "    </tr>\n",
       "    <tr>\n",
       "      <th>2</th>\n",
       "      <td>20000648</td>\n",
       "      <td>41.158260</td>\n",
       "      <td>-8.682795</td>\n",
       "      <td>2013-09-20 22:35:34</td>\n",
       "      <td>1379726734620000648</td>\n",
       "      <td>B</td>\n",
       "    </tr>\n",
       "    <tr>\n",
       "      <th>3</th>\n",
       "      <td>20000648</td>\n",
       "      <td>41.157405</td>\n",
       "      <td>-8.682102</td>\n",
       "      <td>2013-09-20 22:35:19</td>\n",
       "      <td>1379726734620000648</td>\n",
       "      <td>B</td>\n",
       "    </tr>\n",
       "    <tr>\n",
       "      <th>4</th>\n",
       "      <td>20000648</td>\n",
       "      <td>41.155947</td>\n",
       "      <td>-8.680914</td>\n",
       "      <td>2013-09-20 22:35:04</td>\n",
       "      <td>1379726734620000648</td>\n",
       "      <td>B</td>\n",
       "    </tr>\n",
       "  </tbody>\n",
       "</table>\n",
       "</div>"
      ],
      "text/plain": [
       "    taxi_id        lat       lng            timestamp              trip_id   \n",
       "0  20000648  41.158260 -8.682777  2013-09-20 22:36:04  1379726734620000648  \\\n",
       "1  20000648  41.158251 -8.682786  2013-09-20 22:35:49  1379726734620000648   \n",
       "2  20000648  41.158260 -8.682795  2013-09-20 22:35:34  1379726734620000648   \n",
       "3  20000648  41.157405 -8.682102  2013-09-20 22:35:19  1379726734620000648   \n",
       "4  20000648  41.155947 -8.680914  2013-09-20 22:35:04  1379726734620000648   \n",
       "\n",
       "  call_type  \n",
       "0         B  \n",
       "1         B  \n",
       "2         B  \n",
       "3         B  \n",
       "4         B  "
      ]
     },
     "execution_count": 25,
     "metadata": {},
     "output_type": "execute_result"
    }
   ],
   "source": [
    "# Estrutura dos dados formatados\n",
    "formatted_sample.head(5)"
   ]
  },
  {
   "cell_type": "code",
   "execution_count": 26,
   "metadata": {},
   "outputs": [],
   "source": [
    "# Pega apenas trajetórias com mais de 5 pontos\n",
    "for traj_id in formatted_sample['trip_id'].unique():\n",
    "    if (len(formatted_sample[formatted_sample['trip_id'] == traj_id]) < 5):\n",
    "        formatted_sample = formatted_sample[formatted_sample['trip_id'] != traj_id]"
   ]
  },
  {
   "cell_type": "code",
   "execution_count": 27,
   "metadata": {},
   "outputs": [
    {
     "name": "stdout",
     "output_type": "stream",
     "text": [
      "Número de trajetórias extraidos do dataset: 831\n"
     ]
    }
   ],
   "source": [
    "print('Número de trajetórias extraidos do dataset:', len(formatted_sample['trip_id'].unique()))"
   ]
  },
  {
   "cell_type": "code",
   "execution_count": 28,
   "metadata": {},
   "outputs": [],
   "source": [
    "# Salva a amostra limpa e formata para ser usanda em outros experimentos\n",
    "formatted_sample.to_csv('./train_formatted_sample.csv', index=False)"
   ]
  }
 ],
 "metadata": {
  "kernelspec": {
   "display_name": "CasodeUso",
   "language": "python",
   "name": "python3"
  },
  "language_info": {
   "codemirror_mode": {
    "name": "ipython",
    "version": 3
   },
   "file_extension": ".py",
   "mimetype": "text/x-python",
   "name": "python",
   "nbconvert_exporter": "python",
   "pygments_lexer": "ipython3",
   "version": "3.10.11"
  },
  "orig_nbformat": 4
 },
 "nbformat": 4,
 "nbformat_minor": 2
}
