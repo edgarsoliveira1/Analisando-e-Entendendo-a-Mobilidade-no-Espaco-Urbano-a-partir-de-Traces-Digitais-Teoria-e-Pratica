{
 "cells": [
  {
   "cell_type": "code",
   "execution_count": 3,
   "metadata": {},
   "outputs": [],
   "source": [
    "from tqdm import tqdm\n",
    "from sklearn import preprocessing\n",
    "from sklearn.metrics import mean_squared_error\n",
    "import numpy as np\n",
    "import pandas as pd\n",
    "import traja"
   ]
  },
  {
   "cell_type": "code",
   "execution_count": 4,
   "metadata": {},
   "outputs": [
    {
     "data": {
      "text/html": [
       "<div>\n",
       "<style scoped>\n",
       "    .dataframe tbody tr th:only-of-type {\n",
       "        vertical-align: middle;\n",
       "    }\n",
       "\n",
       "    .dataframe tbody tr th {\n",
       "        vertical-align: top;\n",
       "    }\n",
       "\n",
       "    .dataframe thead th {\n",
       "        text-align: right;\n",
       "    }\n",
       "</style>\n",
       "<table border=\"1\" class=\"dataframe\">\n",
       "  <thead>\n",
       "    <tr style=\"text-align: right;\">\n",
       "      <th></th>\n",
       "      <th>uid</th>\n",
       "      <th>lat</th>\n",
       "      <th>lng</th>\n",
       "      <th>datetime</th>\n",
       "      <th>trip_id</th>\n",
       "      <th>call_type</th>\n",
       "    </tr>\n",
       "  </thead>\n",
       "  <tbody>\n",
       "    <tr>\n",
       "      <th>0</th>\n",
       "      <td>20000003</td>\n",
       "      <td>41.143401</td>\n",
       "      <td>-8.602875</td>\n",
       "      <td>2013-09-22 01:25:17</td>\n",
       "      <td>1379823917620000003</td>\n",
       "      <td>A</td>\n",
       "    </tr>\n",
       "    <tr>\n",
       "      <th>1</th>\n",
       "      <td>20000003</td>\n",
       "      <td>41.142033</td>\n",
       "      <td>-8.601894</td>\n",
       "      <td>2013-09-22 01:25:32</td>\n",
       "      <td>1379823917620000003</td>\n",
       "      <td>A</td>\n",
       "    </tr>\n",
       "    <tr>\n",
       "      <th>2</th>\n",
       "      <td>20000003</td>\n",
       "      <td>41.139567</td>\n",
       "      <td>-8.601381</td>\n",
       "      <td>2013-09-22 01:25:47</td>\n",
       "      <td>1379823917620000003</td>\n",
       "      <td>A</td>\n",
       "    </tr>\n",
       "  </tbody>\n",
       "</table>\n",
       "</div>"
      ],
      "text/plain": [
       "        uid        lat       lng             datetime              trip_id  \\\n",
       "0  20000003  41.143401 -8.602875  2013-09-22 01:25:17  1379823917620000003   \n",
       "1  20000003  41.142033 -8.601894  2013-09-22 01:25:32  1379823917620000003   \n",
       "2  20000003  41.139567 -8.601381  2013-09-22 01:25:47  1379823917620000003   \n",
       "\n",
       "  call_type  \n",
       "0         A  \n",
       "1         A  \n",
       "2         A  "
      ]
     },
     "execution_count": 4,
     "metadata": {},
     "output_type": "execute_result"
    }
   ],
   "source": [
    "df_sample = pd.read_csv('./train_filtered_sample.csv')\n",
    "df_sample.head(3)"
   ]
  },
  {
   "cell_type": "code",
   "execution_count": 5,
   "metadata": {},
   "outputs": [],
   "source": [
    "df = pd.DataFrame()\n",
    "df['x'] = df_sample['lng']\n",
    "df['y'] = df_sample['lat']\n",
    "df['ID'] = df_sample['trip_id']"
   ]
  },
  {
   "cell_type": "code",
   "execution_count": 6,
   "metadata": {},
   "outputs": [],
   "source": [
    "for col in ['x', 'y']:\n",
    "    scaler = preprocessing.RobustScaler()\n",
    "    scaled = scaler.fit_transform(df[[col]])\n",
    "    df[col] = scaled"
   ]
  },
  {
   "cell_type": "code",
   "execution_count": 7,
   "metadata": {},
   "outputs": [],
   "source": [
    "from traja.dataset import MultiModalDataLoader\n",
    "batch_size = 10 # How many sequences to train every step. Constrained by GPU memory.\n",
    "num_past = 3 # How many time steps from which to learn the time series\n",
    "num_future = num_past # How many time steps to predict\n",
    "split_by_id = False # Whether to split data into training, test and validation sets based on\n",
    "                    # the animal's ID or not. If True, an animal's entire trajectory will only\n",
    "                    # be used for training, or only for testing and so on.\n",
    "                    # If your animals are territorial (like Jaguars) and you want to forecast\n",
    "                    # their trajectories, you want this to be false. If, however, you want to\n",
    "                    # classify the group membership of an animal, you want this to be true,\n",
    "                    # so that you can verify that previously unseen animals get assigned to\n",
    "                    # the correct class.\n",
    "dataloaders = MultiModalDataLoader(df, batch_size=batch_size, n_past=num_past, n_future=num_future, num_workers=1, split_by_id=split_by_id)"
   ]
  },
  {
   "cell_type": "code",
   "execution_count": 8,
   "metadata": {},
   "outputs": [],
   "source": [
    "from traja.models.predictive_models.lstm import LSTM\n",
    "input_size = 2 # Number of input dimensions (normally x, y)\n",
    "output_size = 2 # Same as input_size when predicting\n",
    "num_layers = 5 # Number of LSTM layers. Deeper learns more complex patterns but overfits.\n",
    "hidden_size = 8 # Width of layers. Wider learns bigger patterns but overfits. Try 32, 64, 128, 256, 512\n",
    "dropout = 0.1 # Ignore some network connections. Improves generalisation.\n",
    "\n",
    "model = LSTM(input_size=input_size,\n",
    "             hidden_size=hidden_size,\n",
    "             num_layers=num_layers,\n",
    "             output_size=output_size,\n",
    "             dropout=dropout,\n",
    "             batch_size=batch_size)"
   ]
  },
  {
   "cell_type": "code",
   "execution_count": 9,
   "metadata": {},
   "outputs": [
    {
     "name": "stdout",
     "output_type": "stream",
     "text": [
      "Epoch 1 | forecasting loss 0.11303099244832993\n",
      "Epoch 2 | forecasting loss 0.018966346979141235\n",
      "Epoch 3 | forecasting loss 0.013241377659142017\n",
      "Epoch 4 | forecasting loss 0.01268817950040102\n",
      "Epoch 5 | forecasting loss 0.012577618472278118\n",
      "Epoch 6 | forecasting loss 0.01257654931396246\n",
      "Epoch 7 | forecasting loss 0.012543834745883942\n",
      "Epoch 8 | forecasting loss 0.012494871392846107\n",
      "Epoch 9 | forecasting loss 0.01237295288592577\n",
      "====> Mean Test set forecasting loss: 0.0176\n",
      "Epoch 10 | forecasting loss 0.012392144650220871\n",
      "Epoch 11 | forecasting loss 0.012483195401728153\n",
      "Epoch 12 | forecasting loss 0.012438688427209854\n",
      "Epoch 13 | forecasting loss 0.012435880489647388\n",
      "Epoch 14 | forecasting loss 0.012405965477228165\n",
      "Epoch 15 | forecasting loss 0.012417521327733994\n",
      "Epoch 16 | forecasting loss 0.01234265323728323\n",
      "Epoch 17 | forecasting loss 0.01231191772967577\n",
      "Epoch 18 | forecasting loss 0.012208097614347935\n",
      "Model and hyperparameters saved at /home/eu/minicurso\n"
     ]
    }
   ],
   "source": [
    "from traja.models.train import HybridTrainer\n",
    "\n",
    "optimizer_type = 'Adam' # Nonlinear optimiser with momentum\n",
    "loss_type = 'huber'\n",
    "epochs = 18\n",
    "\n",
    "# Trainer\n",
    "trainer = HybridTrainer(model=model,\n",
    "                        optimizer_type=optimizer_type,\n",
    "                        loss_type=loss_type)\n",
    "# Train the model\n",
    "trainer.fit(dataloaders=dataloaders, model_save_path='./model.pt', epochs=epochs, training_mode='forecasting')"
   ]
  },
  {
   "cell_type": "code",
   "execution_count": 10,
   "metadata": {},
   "outputs": [
    {
     "name": "stdout",
     "output_type": "stream",
     "text": [
      "====> Mean Validation set generator loss: 0.1033\n"
     ]
    },
    {
     "data": {
      "text/plain": [
       "(0.1032792459997093, 0.0, 0.0)"
      ]
     },
     "execution_count": 10,
     "metadata": {},
     "output_type": "execute_result"
    }
   ],
   "source": [
    "validation_loader = dataloaders['sequential_validation_loader']\n",
    "\n",
    "trainer.validate(validation_loader)"
   ]
  },
  {
   "cell_type": "code",
   "execution_count": 22,
   "metadata": {},
   "outputs": [],
   "source": [
    "import torch\n",
    "from matplotlib import pyplot as plt\n",
    "from functools import reduce \n",
    "def pred_batch(model, dataloader, index):\n",
    "    device = \"cuda\" if torch.cuda.is_available() else \"cpu\"\n",
    "    model = model.to(device)\n",
    "    batch_size = model.batch_size\n",
    "    input_size = model.input_size\n",
    "\n",
    "    data, target, category, parameters, classes = list(iter(dataloader))[index]\n",
    "    data = data.float().to(device)\n",
    "    prediction = model(data, latent=False)\n",
    "\n",
    "    # Send tensors to CPU so numpy can work with them\n",
    "    pred = prediction[batch_size - 1 : batch_size, :].cpu().squeeze().detach().numpy()\n",
    "    target = target.clone().detach()[batch_size - 1 : batch_size, :].squeeze()\n",
    "    real = target.cpu()\n",
    "    data_size = reduce(lambda x, y: x * y, list(data.cpu().shape))\n",
    "    data = data.cpu().reshape((int(data_size/input_size), input_size)).detach().numpy()\n",
    "    pred += data[-1] - pred[0]\n",
    "    return data, real, pred\n",
    "\n",
    "def plot_prediction(data, real, pred):\n",
    "    _, ax = plt.subplots(1, 2, figsize=(15, 5))\n",
    "    ax[0].plot(data[:, 0], data[:, 1], label=\"History\")\n",
    "    ax[0].plot(pred[:, 0], pred[:, 1], label=\"Pred\")\n",
    "    ax[0].plot(real[:, 0], real[:, 1], label=\"Real\")\n",
    "\n",
    "    ax[1].scatter(pred[:, 0], pred[:, 1], label=\"Pred\")\n",
    "    ax[1].scatter(real[:, 0], real[:, 1], label=\"Real\")\n",
    "\n",
    "    for a in ax:\n",
    "        a.legend()\n",
    "    plt.show()"
   ]
  },
  {
   "cell_type": "code",
   "execution_count": 12,
   "metadata": {},
   "outputs": [
    {
     "name": "stderr",
     "output_type": "stream",
     "text": [
      "100%|██████████| 126/126 [02:25<00:00,  1.15s/it]\n"
     ]
    }
   ],
   "source": [
    "minor_mse = float('inf')\n",
    "minor_i = -1\n",
    "for i in tqdm(range(len(list(iter(validation_loader))))):\n",
    "    batch_index = i # The batch you want to plot\n",
    "    data, real, pred = pred_batch(model, validation_loader, batch_index)\n",
    "    mse = mean_squared_error(real, pred)\n",
    "    if mse < minor_mse:\n",
    "        minor_mse = mse\n",
    "        minor_i = i"
   ]
  },
  {
   "cell_type": "code",
   "execution_count": 23,
   "metadata": {},
   "outputs": [
    {
     "data": {
      "image/png": "[encoded data removed]",
      "text/plain": [
       "<Figure size 1500x500 with 2 Axes>"
      ]
     },
     "metadata": {},
     "output_type": "display_data"
    }
   ],
   "source": [
    "data, real, pred = pred_batch(model, validation_loader, minor_i)\n",
    "plot_prediction(data, real, pred)"
   ]
  }
 ],
 "metadata": {
  "kernelspec": {
   "display_name": "traja",
   "language": "python",
   "name": "python3"
  },
  "language_info": {
   "codemirror_mode": {
    "name": "ipython",
    "version": 3
   },
   "file_extension": ".py",
   "mimetype": "text/x-python",
   "name": "python",
   "nbconvert_exporter": "python",
   "pygments_lexer": "ipython3",
   "version": "3.7.12"
  },
  "orig_nbformat": 4
 },
 "nbformat": 4,
 "nbformat_minor": 2
}
