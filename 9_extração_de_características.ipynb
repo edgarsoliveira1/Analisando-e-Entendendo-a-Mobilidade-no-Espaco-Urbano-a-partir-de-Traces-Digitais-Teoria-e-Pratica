{
 "cells": [
  {
   "cell_type": "code",
   "execution_count": 119,
   "metadata": {},
   "outputs": [],
   "source": [
    "import pandas as pd\n",
    "from ptrail.core.TrajectoryDF import PTRAILDataFrame\n",
    "\n",
    "import warnings\n",
    "warnings.filterwarnings('ignore')"
   ]
  },
  {
   "cell_type": "code",
   "execution_count": 120,
   "metadata": {},
   "outputs": [
    {
     "data": {
      "text/html": [
       "<div>\n",
       "<style scoped>\n",
       "    .dataframe tbody tr th:only-of-type {\n",
       "        vertical-align: middle;\n",
       "    }\n",
       "\n",
       "    .dataframe tbody tr th {\n",
       "        vertical-align: top;\n",
       "    }\n",
       "\n",
       "    .dataframe thead th {\n",
       "        text-align: right;\n",
       "    }\n",
       "</style>\n",
       "<table border=\"1\" class=\"dataframe\">\n",
       "  <thead>\n",
       "    <tr style=\"text-align: right;\">\n",
       "      <th></th>\n",
       "      <th>uid</th>\n",
       "      <th>lat</th>\n",
       "      <th>lng</th>\n",
       "      <th>datetime</th>\n",
       "      <th>trip_id</th>\n",
       "      <th>call_type</th>\n",
       "    </tr>\n",
       "  </thead>\n",
       "  <tbody>\n",
       "    <tr>\n",
       "      <th>0</th>\n",
       "      <td>20000003</td>\n",
       "      <td>41.143401</td>\n",
       "      <td>-8.602875</td>\n",
       "      <td>2013-09-22 01:25:17</td>\n",
       "      <td>1379823917620000003</td>\n",
       "      <td>A</td>\n",
       "    </tr>\n",
       "    <tr>\n",
       "      <th>1</th>\n",
       "      <td>20000003</td>\n",
       "      <td>41.142033</td>\n",
       "      <td>-8.601894</td>\n",
       "      <td>2013-09-22 01:25:32</td>\n",
       "      <td>1379823917620000003</td>\n",
       "      <td>A</td>\n",
       "    </tr>\n",
       "    <tr>\n",
       "      <th>2</th>\n",
       "      <td>20000003</td>\n",
       "      <td>41.139567</td>\n",
       "      <td>-8.601381</td>\n",
       "      <td>2013-09-22 01:25:47</td>\n",
       "      <td>1379823917620000003</td>\n",
       "      <td>A</td>\n",
       "    </tr>\n",
       "  </tbody>\n",
       "</table>\n",
       "</div>"
      ],
      "text/plain": [
       "        uid        lat  ...              trip_id call_type\n",
       "0  20000003  41.143401  ...  1379823917620000003         A\n",
       "1  20000003  41.142033  ...  1379823917620000003         A\n",
       "2  20000003  41.139567  ...  1379823917620000003         A\n",
       "\n",
       "[3 rows x 6 columns]"
      ]
     },
     "execution_count": 120,
     "metadata": {},
     "output_type": "execute_result"
    }
   ],
   "source": [
    "df_sample = pd.read_csv('./train_filtered_sample.csv')\n",
    "df_sample.head(3)"
   ]
  },
  {
   "cell_type": "code",
   "execution_count": 121,
   "metadata": {},
   "outputs": [
    {
     "name": "stdout",
     "output_type": "stream",
     "text": [
      "The dimensions of the dataframe:(40154, 4)\n",
      "Type of the dataframe: <class 'ptrail.core.TrajectoryDF.PTRAILDataFrame'>\n"
     ]
    },
    {
     "data": {
      "text/html": [
       "<div>\n",
       "<style scoped>\n",
       "    .dataframe tbody tr th:only-of-type {\n",
       "        vertical-align: middle;\n",
       "    }\n",
       "\n",
       "    .dataframe tbody tr th {\n",
       "        vertical-align: top;\n",
       "    }\n",
       "\n",
       "    .dataframe thead th {\n",
       "        text-align: right;\n",
       "    }\n",
       "</style>\n",
       "<table border=\"1\" class=\"dataframe\">\n",
       "  <thead>\n",
       "    <tr style=\"text-align: right;\">\n",
       "      <th></th>\n",
       "      <th></th>\n",
       "      <th>uid</th>\n",
       "      <th>lat</th>\n",
       "      <th>lon</th>\n",
       "      <th>call_type</th>\n",
       "    </tr>\n",
       "    <tr>\n",
       "      <th>traj_id</th>\n",
       "      <th>DateTime</th>\n",
       "      <th></th>\n",
       "      <th></th>\n",
       "      <th></th>\n",
       "      <th></th>\n",
       "    </tr>\n",
       "  </thead>\n",
       "  <tbody>\n",
       "    <tr>\n",
       "      <th rowspan=\"3\" valign=\"top\">1372668941620000435</th>\n",
       "      <th>2013-07-01 05:55:41</th>\n",
       "      <td>20000435</td>\n",
       "      <td>41.149359</td>\n",
       "      <td>-8.630829</td>\n",
       "      <td>A</td>\n",
       "    </tr>\n",
       "    <tr>\n",
       "      <th>2013-07-01 05:55:56</th>\n",
       "      <td>20000435</td>\n",
       "      <td>41.149359</td>\n",
       "      <td>-8.630811</td>\n",
       "      <td>A</td>\n",
       "    </tr>\n",
       "    <tr>\n",
       "      <th>2013-07-01 05:56:11</th>\n",
       "      <td>20000435</td>\n",
       "      <td>41.149359</td>\n",
       "      <td>-8.630802</td>\n",
       "      <td>A</td>\n",
       "    </tr>\n",
       "  </tbody>\n",
       "</table>\n",
       "</div>"
      ],
      "text/plain": [
       "                                              uid  ...  call_type\n",
       "traj_id             DateTime                       ...           \n",
       "1372668941620000435 2013-07-01 05:55:41  20000435  ...          A\n",
       "                    2013-07-01 05:55:56  20000435  ...          A\n",
       "                    2013-07-01 05:56:11  20000435  ...          A\n",
       "\n",
       "[3 rows x 4 columns]"
      ]
     },
     "execution_count": 121,
     "metadata": {},
     "output_type": "execute_result"
    }
   ],
   "source": [
    "pdf = PTRAILDataFrame(data_set=df_sample,\n",
    "                        latitude='lat',\n",
    "                        longitude='lng',\n",
    "                        datetime='datetime',\n",
    "                        traj_id='trip_id',\n",
    "                        rest_of_columns=['uid', 'call_type'])\n",
    "print(f\"The dimensions of the dataframe:{pdf.shape}\")\n",
    "print(f\"Type of the dataframe: {type(pdf)}\")\n",
    "pdf.head(3)"
   ]
  },
  {
   "attachments": {},
   "cell_type": "markdown",
   "metadata": {},
   "source": [
    "**Caracteírsticas Temporais**"
   ]
  },
  {
   "cell_type": "code",
   "execution_count": 122,
   "metadata": {},
   "outputs": [],
   "source": [
    "from ptrail.features.temporal_features import TemporalFeatures as temporal"
   ]
  },
  {
   "cell_type": "code",
   "execution_count": 123,
   "metadata": {},
   "outputs": [
    {
     "data": {
      "text/html": [
       "<div>\n",
       "<style scoped>\n",
       "    .dataframe tbody tr th:only-of-type {\n",
       "        vertical-align: middle;\n",
       "    }\n",
       "\n",
       "    .dataframe tbody tr th {\n",
       "        vertical-align: top;\n",
       "    }\n",
       "\n",
       "    .dataframe thead th {\n",
       "        text-align: right;\n",
       "    }\n",
       "</style>\n",
       "<table border=\"1\" class=\"dataframe\">\n",
       "  <thead>\n",
       "    <tr style=\"text-align: right;\">\n",
       "      <th></th>\n",
       "      <th></th>\n",
       "      <th>uid</th>\n",
       "      <th>lat</th>\n",
       "      <th>lon</th>\n",
       "      <th>call_type</th>\n",
       "      <th>Date</th>\n",
       "      <th>Day_Of_Week</th>\n",
       "      <th>Time_Of_Day</th>\n",
       "      <th>Time</th>\n",
       "    </tr>\n",
       "    <tr>\n",
       "      <th>traj_id</th>\n",
       "      <th>DateTime</th>\n",
       "      <th></th>\n",
       "      <th></th>\n",
       "      <th></th>\n",
       "      <th></th>\n",
       "      <th></th>\n",
       "      <th></th>\n",
       "      <th></th>\n",
       "      <th></th>\n",
       "    </tr>\n",
       "  </thead>\n",
       "  <tbody>\n",
       "    <tr>\n",
       "      <th rowspan=\"3\" valign=\"top\">1372668941620000435</th>\n",
       "      <th>2013-07-01 05:55:41</th>\n",
       "      <td>20000435</td>\n",
       "      <td>41.149359</td>\n",
       "      <td>-8.630829</td>\n",
       "      <td>A</td>\n",
       "      <td>2013-07-01</td>\n",
       "      <td>Monday</td>\n",
       "      <td>Early Morning</td>\n",
       "      <td>05:55:41</td>\n",
       "    </tr>\n",
       "    <tr>\n",
       "      <th>2013-07-01 05:55:56</th>\n",
       "      <td>20000435</td>\n",
       "      <td>41.149359</td>\n",
       "      <td>-8.630811</td>\n",
       "      <td>A</td>\n",
       "      <td>2013-07-01</td>\n",
       "      <td>Monday</td>\n",
       "      <td>Early Morning</td>\n",
       "      <td>05:55:56</td>\n",
       "    </tr>\n",
       "    <tr>\n",
       "      <th>2013-07-01 05:56:11</th>\n",
       "      <td>20000435</td>\n",
       "      <td>41.149359</td>\n",
       "      <td>-8.630802</td>\n",
       "      <td>A</td>\n",
       "      <td>2013-07-01</td>\n",
       "      <td>Monday</td>\n",
       "      <td>Early Morning</td>\n",
       "      <td>05:56:11</td>\n",
       "    </tr>\n",
       "  </tbody>\n",
       "</table>\n",
       "</div>"
      ],
      "text/plain": [
       "                                              uid  ...      Time\n",
       "traj_id             DateTime                       ...          \n",
       "1372668941620000435 2013-07-01 05:55:41  20000435  ...  05:55:41\n",
       "                    2013-07-01 05:55:56  20000435  ...  05:55:56\n",
       "                    2013-07-01 05:56:11  20000435  ...  05:56:11\n",
       "\n",
       "[3 rows x 8 columns]"
      ]
     },
     "execution_count": 123,
     "metadata": {},
     "output_type": "execute_result"
    }
   ],
   "source": [
    "temporal_features_df = temporal.create_date_column(pdf)\n",
    "temporal_features_df = temporal.create_day_of_week_column(temporal_features_df)\n",
    "temporal_features_df = temporal.create_time_of_day_column(temporal_features_df)\n",
    "temporal_features_df = temporal.create_time_column(temporal_features_df)\n",
    "temporal_features_df.head(3)"
   ]
  },
  {
   "attachments": {},
   "cell_type": "markdown",
   "metadata": {},
   "source": [
    "**Características Derivadas do Movimento (Kinematic features)**"
   ]
  },
  {
   "cell_type": "code",
   "execution_count": 124,
   "metadata": {},
   "outputs": [],
   "source": [
    "from ptrail.features.kinematic_features import KinematicFeatures as kinematic"
   ]
  },
  {
   "cell_type": "code",
   "execution_count": 125,
   "metadata": {},
   "outputs": [
    {
     "data": {
      "text/html": [
       "<div>\n",
       "<style scoped>\n",
       "    .dataframe tbody tr th:only-of-type {\n",
       "        vertical-align: middle;\n",
       "    }\n",
       "\n",
       "    .dataframe tbody tr th {\n",
       "        vertical-align: top;\n",
       "    }\n",
       "\n",
       "    .dataframe thead th {\n",
       "        text-align: right;\n",
       "    }\n",
       "</style>\n",
       "<table border=\"1\" class=\"dataframe\">\n",
       "  <thead>\n",
       "    <tr style=\"text-align: right;\">\n",
       "      <th></th>\n",
       "      <th></th>\n",
       "      <th>uid</th>\n",
       "      <th>lat</th>\n",
       "      <th>lon</th>\n",
       "      <th>call_type</th>\n",
       "      <th>Date</th>\n",
       "      <th>Day_Of_Week</th>\n",
       "      <th>Time_Of_Day</th>\n",
       "      <th>Time</th>\n",
       "      <th>Distance</th>\n",
       "      <th>Speed</th>\n",
       "      <th>Acceleration</th>\n",
       "      <th>Jerk</th>\n",
       "      <th>Bearing</th>\n",
       "      <th>Bearing_Rate</th>\n",
       "      <th>Rate_of_bearing_rate</th>\n",
       "    </tr>\n",
       "    <tr>\n",
       "      <th>traj_id</th>\n",
       "      <th>DateTime</th>\n",
       "      <th></th>\n",
       "      <th></th>\n",
       "      <th></th>\n",
       "      <th></th>\n",
       "      <th></th>\n",
       "      <th></th>\n",
       "      <th></th>\n",
       "      <th></th>\n",
       "      <th></th>\n",
       "      <th></th>\n",
       "      <th></th>\n",
       "      <th></th>\n",
       "      <th></th>\n",
       "      <th></th>\n",
       "      <th></th>\n",
       "    </tr>\n",
       "  </thead>\n",
       "  <tbody>\n",
       "    <tr>\n",
       "      <th rowspan=\"3\" valign=\"top\">1372668941620000435</th>\n",
       "      <th>2013-07-01 05:55:41</th>\n",
       "      <td>20000435</td>\n",
       "      <td>41.149359</td>\n",
       "      <td>-8.630829</td>\n",
       "      <td>A</td>\n",
       "      <td>2013-07-01</td>\n",
       "      <td>Monday</td>\n",
       "      <td>Early Morning</td>\n",
       "      <td>05:55:41</td>\n",
       "      <td>NaN</td>\n",
       "      <td>NaN</td>\n",
       "      <td>NaN</td>\n",
       "      <td>NaN</td>\n",
       "      <td>NaN</td>\n",
       "      <td>NaN</td>\n",
       "      <td>NaN</td>\n",
       "    </tr>\n",
       "    <tr>\n",
       "      <th>2013-07-01 05:55:56</th>\n",
       "      <td>20000435</td>\n",
       "      <td>41.149359</td>\n",
       "      <td>-8.630811</td>\n",
       "      <td>A</td>\n",
       "      <td>2013-07-01</td>\n",
       "      <td>Monday</td>\n",
       "      <td>Early Morning</td>\n",
       "      <td>05:55:56</td>\n",
       "      <td>1.507130</td>\n",
       "      <td>0.100475</td>\n",
       "      <td>NaN</td>\n",
       "      <td>NaN</td>\n",
       "      <td>89.999994</td>\n",
       "      <td>NaN</td>\n",
       "      <td>NaN</td>\n",
       "    </tr>\n",
       "    <tr>\n",
       "      <th>2013-07-01 05:56:11</th>\n",
       "      <td>20000435</td>\n",
       "      <td>41.149359</td>\n",
       "      <td>-8.630802</td>\n",
       "      <td>A</td>\n",
       "      <td>2013-07-01</td>\n",
       "      <td>Monday</td>\n",
       "      <td>Early Morning</td>\n",
       "      <td>05:56:11</td>\n",
       "      <td>0.753565</td>\n",
       "      <td>0.050238</td>\n",
       "      <td>-0.003349</td>\n",
       "      <td>NaN</td>\n",
       "      <td>89.999997</td>\n",
       "      <td>1.971929e-07</td>\n",
       "      <td>1.971929e-07</td>\n",
       "    </tr>\n",
       "  </tbody>\n",
       "</table>\n",
       "</div>"
      ],
      "text/plain": [
       "                                              uid  ...  Rate_of_bearing_rate\n",
       "traj_id             DateTime                       ...                      \n",
       "1372668941620000435 2013-07-01 05:55:41  20000435  ...                   NaN\n",
       "                    2013-07-01 05:55:56  20000435  ...                   NaN\n",
       "                    2013-07-01 05:56:11  20000435  ...          1.971929e-07\n",
       "\n",
       "[3 rows x 15 columns]"
      ]
     },
     "execution_count": 125,
     "metadata": {},
     "output_type": "execute_result"
    }
   ],
   "source": [
    "kinematic_features_df = kinematic.create_distance_column(temporal_features_df)\n",
    "kinematic_features_df = kinematic.create_jerk_column(kinematic_features_df)\n",
    "kinematic_features_df = kinematic.create_rate_of_br_column(kinematic_features_df)\n",
    "kinematic_features_df.head(3)"
   ]
  },
  {
   "attachments": {},
   "cell_type": "markdown",
   "metadata": {},
   "source": [
    "**Extrai outliers**"
   ]
  },
  {
   "cell_type": "code",
   "execution_count": 126,
   "metadata": {},
   "outputs": [],
   "source": [
    "from ptrail.preprocessing.filters import Filters as filt"
   ]
  },
  {
   "cell_type": "code",
   "execution_count": 127,
   "metadata": {},
   "outputs": [
    {
     "name": "stdout",
     "output_type": "stream",
     "text": [
      "Length of original: 38230\n",
      "Length after outlier removal: 38230\n",
      "Number of points removed: 1924\n"
     ]
    }
   ],
   "source": [
    "outlier_df = filt.hampel_outlier_detection(kinematic_features_df, column_name='Acceleration')\n",
    "print(f\"Length of original: {len(outlier_df)}\")\n",
    "print(f\"Length after outlier removal: {len(outlier_df)}\")\n",
    "print(f\"Number of points removed: {len(kinematic_features_df) - len(outlier_df)}\")"
   ]
  },
  {
   "attachments": {},
   "cell_type": "markdown",
   "metadata": {},
   "source": [
    "**Filtra ponto por distancia máxima**"
   ]
  },
  {
   "cell_type": "code",
   "execution_count": 128,
   "metadata": {},
   "outputs": [
    {
     "name": "stdout",
     "output_type": "stream",
     "text": [
      "Length of original: 38230\n",
      "Length of Max distance Filtered DF: 37397\n",
      "Number of points removed: 833\n"
     ]
    }
   ],
   "source": [
    "filter_df_distance = filt.filter_by_max_consecutive_distance(outlier_df, max_distance=4500)\n",
    "print(f\"Length of original: {len(outlier_df)}\")\n",
    "print(f\"Length of Max distance Filtered DF: {len(filter_df_distance)}\")\n",
    "print(f\"Number of points removed: {len(outlier_df) - len(filter_df_distance)}\")"
   ]
  },
  {
   "attachments": {},
   "cell_type": "markdown",
   "metadata": {},
   "source": [
    "**Classificação de 'call_type'**"
   ]
  },
  {
   "cell_type": "code",
   "execution_count": 129,
   "metadata": {},
   "outputs": [],
   "source": [
    "from ptrail.preprocessing.statistics import Statistics\n",
    "from sklearn.metrics import f1_score\n",
    "from sklearn.ensemble import RandomForestClassifier\n",
    "from sklearn.tree import DecisionTreeClassifier\n",
    "from sklearn.naive_bayes import GaussianNB\n",
    "from sklearn.neighbors import KNeighborsClassifier\n",
    "import matplotlib.pyplot as plt\n",
    "from sklearn.model_selection import cross_val_score, StratifiedKFold"
   ]
  },
  {
   "cell_type": "code",
   "execution_count": 130,
   "metadata": {},
   "outputs": [],
   "source": [
    "def plot_f1_weighted(ptrail_dataframe: any, ax: any, title='Accuracy x Model'):\n",
    "    target_col_name = 'call_type'\n",
    "    stats_df = Statistics.generate_kinematic_stats(dataframe=ptrail_dataframe,\n",
    "                                                target_col_name=target_col_name)\n",
    "    pivoted = Statistics.pivot_stats_df(dataframe=stats_df,\n",
    "                                        target_col_name=target_col_name)\n",
    "    names = [\"Random Forest\", \"Decision Tree\", \"Gaussian Naive Bayes\", \"K-Nearest Neighbors\"]\n",
    "    models = [RandomForestClassifier(), DecisionTreeClassifier(), GaussianNB(), KNeighborsClassifier()]\n",
    "\n",
    "    if not ax:\n",
    "        _ = plt.figure(figsize=(9, 5))\n",
    "        ax = plt.subplot(111)\n",
    "        ax.set_facecolor('gainsboro')\n",
    "\n",
    "    skf = StratifiedKFold(n_splits=10, random_state=10, shuffle=True)\n",
    "    for i, name, model in zip(range(0, 5), names, models):\n",
    "        scores = cross_val_score(model, pivoted.drop(columns=[target_col_name]), pivoted[target_col_name],\n",
    "                                scoring='accuracy', cv=skf, n_jobs=-1)\n",
    "        ax.boxplot(x=scores, positions=[i], vert=True,\n",
    "                widths=0.60, patch_artist=True)\n",
    "\n",
    "    ax.title.set_text(title)\n",
    "    ax.set_xticklabels(labels=names)\n",
    "    ax.set_ylabel(\"Acurácia\")\n",
    "    ax.set_xlabel(\"Model\")\n",
    "    plt.tight_layout()"
   ]
  },
  {
   "cell_type": "code",
   "execution_count": 131,
   "metadata": {},
   "outputs": [
    {
     "data": {
      "image/png": "[encoded data removed]",
      "text/plain": [
       "<Figure size 1500x500 with 2 Axes>"
      ]
     },
     "metadata": {},
     "output_type": "display_data"
    }
   ],
   "source": [
    "_, ax = plt.subplots(1, 2, figsize=(15, 5))\n",
    "plot_f1_weighted(pdf, ax=ax[0], title='Sem extração de características')\n",
    "plot_f1_weighted(outlier_df, ax=ax[1], title='Com extração de características')\n",
    "plt.show()"
   ]
  }
 ],
 "metadata": {
  "kernelspec": {
   "display_name": "ptr",
   "language": "python",
   "name": "python3"
  },
  "language_info": {
   "codemirror_mode": {
    "name": "ipython",
    "version": 3
   },
   "file_extension": ".py",
   "mimetype": "text/x-python",
   "name": "python",
   "nbconvert_exporter": "python",
   "pygments_lexer": "ipython3",
   "version": "3.10.12"
  },
  "orig_nbformat": 4
 },
 "nbformat": 4,
 "nbformat_minor": 2
}
