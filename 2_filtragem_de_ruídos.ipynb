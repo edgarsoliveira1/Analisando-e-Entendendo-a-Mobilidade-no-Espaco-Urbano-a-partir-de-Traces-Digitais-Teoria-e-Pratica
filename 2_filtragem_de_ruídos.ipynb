{
 "cells": [
  {
   "cell_type": "code",
   "execution_count": 1,
   "metadata": {},
   "outputs": [],
   "source": [
    "import pandas as pd\n",
    "import skmob\n",
    "from skmob.preprocessing import filtering\n",
    "from warnings import filterwarnings\n",
    "filterwarnings('ignore')"
   ]
  },
  {
   "cell_type": "code",
   "execution_count": 14,
   "metadata": {},
   "outputs": [],
   "source": [
    "formatted_sample_df = pd.read_csv('./train_formatted_sample.csv')"
   ]
  },
  {
   "cell_type": "code",
   "execution_count": 15,
   "metadata": {},
   "outputs": [],
   "source": [
    "# Transforma os dados para o objeto TrajDataFrame\n",
    "sample_tdf = skmob.TrajDataFrame(formatted_sample_df, latitude='lat', longitude='lon', user_id='taxi_id', datetime='timestamp', crs={'init': 'WGS84'})"
   ]
  },
  {
   "cell_type": "code",
   "execution_count": 16,
   "metadata": {},
   "outputs": [],
   "source": [
    "def plot_trajectory_diff(tdf: skmob.TrajDataFrame, tdf2: skmob.TrajDataFrame, zoom = 15):\n",
    "  diff_points = tdf[~tdf.apply(tuple,1).isin(tdf2.apply(tuple,1))]\n",
    "  map_f = diff_points.plot_stops(hex_color='green', zoom = zoom)\n",
    "  map_f = tdf.plot_trajectory(map_f=map_f, dashArray='5,5', start_end_markers=False, hex_color='red')\n",
    "  map_f = tdf2.plot_trajectory(map_f=map_f, start_end_markers=False, hex_color='blue')\n",
    "  return map_f"
   ]
  },
  {
   "cell_type": "code",
   "execution_count": 17,
   "metadata": {},
   "outputs": [
    {
     "name": "stdout",
     "output_type": "stream",
     "text": [
      "Número de pontos de ruído encontrados 2\n"
     ]
    }
   ],
   "source": [
    "# Pega a a trajetória com id '1373395476620000246', como exemplo\n",
    "one_tdf = sample_tdf[sample_tdf['trip_id'] == 1373395476620000246]\n",
    "# Computa uma trajetória filtrada, usando o critério de velocidade máxima de 300km/h\n",
    "one_tdf_filtered = filtering.filter(one_tdf, max_speed_kmh=160)\n",
    "print('Número de pontos de ruído encontrados', len(one_tdf) - len(one_tdf_filtered))"
   ]
  },
  {
   "cell_type": "code",
   "execution_count": 18,
   "metadata": {},
   "outputs": [
    {
     "data": {
      "text/html": [
       "<div style=\"width:100%;\"><div style=\"position:relative;width:100%;height:0;padding-bottom:60%;\"><span style=\"color:#565656\">Make this Notebook Trusted to load map: File -> Trust Notebook</span><iframe srcdoc=\"&lt;!DOCTYPE html&gt;\n",
       "&lt;html&gt;\n",
       "&lt;head&gt;\n",
       "    \n",
       "    &lt;meta http-equiv=&quot;content-type&quot; content=&quot;text/html; charset=UTF-8&quot; /&gt;\n",
       "    \n",
       "        &lt;script&gt;\n",
       "            L_NO_TOUCH = false;\n",
       "            L_DISABLE_3D = false;\n",
       "        &lt;/script&gt;\n",
       "    \n",
       "    &lt;style&gt;html, body {width: 100%;height: 100%;margin: 0;padding: 0;}&lt;/style&gt;\n",
       "    &lt;style&gt;#map {position:absolute;top:0;bottom:0;right:0;left:0;}&lt;/style&gt;\n",
       "    &lt;script src=&quot;https://cdn.jsdelivr.net/npm/leaflet@1.9.3/dist/leaflet.js&quot;&gt;&lt;/script&gt;\n",
       "    &lt;script src=&quot;https://code.jquery.com/jquery-1.12.4.min.js&quot;&gt;&lt;/script&gt;\n",
       "    &lt;script src=&quot;https://cdn.jsdelivr.net/npm/bootstrap@5.2.2/dist/js/bootstrap.bundle.min.js&quot;&gt;&lt;/script&gt;\n",
       "    &lt;script src=&quot;https://cdnjs.cloudflare.com/ajax/libs/Leaflet.awesome-markers/2.0.2/leaflet.awesome-markers.js&quot;&gt;&lt;/script&gt;\n",
       "    &lt;link rel=&quot;stylesheet&quot; href=&quot;https://cdn.jsdelivr.net/npm/leaflet@1.9.3/dist/leaflet.css&quot;/&gt;\n",
       "    &lt;link rel=&quot;stylesheet&quot; href=&quot;https://cdn.jsdelivr.net/npm/bootstrap@5.2.2/dist/css/bootstrap.min.css&quot;/&gt;\n",
       "    &lt;link rel=&quot;stylesheet&quot; href=&quot;https://netdna.bootstrapcdn.com/bootstrap/3.0.0/css/bootstrap.min.css&quot;/&gt;\n",
       "    &lt;link rel=&quot;stylesheet&quot; href=&quot;https://cdn.jsdelivr.net/npm/@fortawesome/fontawesome-free@6.2.0/css/all.min.css&quot;/&gt;\n",
       "    &lt;link rel=&quot;stylesheet&quot; href=&quot;https://cdnjs.cloudflare.com/ajax/libs/Leaflet.awesome-markers/2.0.2/leaflet.awesome-markers.css&quot;/&gt;\n",
       "    &lt;link rel=&quot;stylesheet&quot; href=&quot;https://cdn.jsdelivr.net/gh/python-visualization/folium/folium/templates/leaflet.awesome.rotate.min.css&quot;/&gt;\n",
       "    \n",
       "            &lt;meta name=&quot;viewport&quot; content=&quot;width=device-width,\n",
       "                initial-scale=1.0, maximum-scale=1.0, user-scalable=no&quot; /&gt;\n",
       "            &lt;style&gt;\n",
       "                #map_5f4cea0452f24703c707e450cdb286f9 {\n",
       "                    position: relative;\n",
       "                    width: 100.0%;\n",
       "                    height: 100.0%;\n",
       "                    left: 0.0%;\n",
       "                    top: 0.0%;\n",
       "                }\n",
       "                .leaflet-container { font-size: 1rem; }\n",
       "            &lt;/style&gt;\n",
       "        \n",
       "    &lt;script src=&quot;https://cdnjs.cloudflare.com/ajax/libs/leaflet-dvf/0.3.0/leaflet-dvf.markers.min.js&quot;&gt;&lt;/script&gt;\n",
       "&lt;/head&gt;\n",
       "&lt;body&gt;\n",
       "    \n",
       "    \n",
       "            &lt;div class=&quot;folium-map&quot; id=&quot;map_5f4cea0452f24703c707e450cdb286f9&quot; &gt;&lt;/div&gt;\n",
       "        \n",
       "&lt;/body&gt;\n",
       "&lt;script&gt;\n",
       "    \n",
       "    \n",
       "            var map_5f4cea0452f24703c707e450cdb286f9 = L.map(\n",
       "                &quot;map_5f4cea0452f24703c707e450cdb286f9&quot;,\n",
       "                {\n",
       "                    center: [41.167030499999996, -8.649207],\n",
       "                    crs: L.CRS.EPSG3857,\n",
       "                    zoom: 14,\n",
       "                    zoomControl: true,\n",
       "                    preferCanvas: false,\n",
       "                }\n",
       "            );\n",
       "            L.control.scale().addTo(map_5f4cea0452f24703c707e450cdb286f9);\n",
       "\n",
       "            \n",
       "\n",
       "        \n",
       "    \n",
       "            var tile_layer_bccc07887574719fa6be4953ad84e11e = L.tileLayer(\n",
       "                &quot;https://cartodb-basemaps-{s}.global.ssl.fastly.net/light_all/{z}/{x}/{y}.png&quot;,\n",
       "                {&quot;attribution&quot;: &quot;\\u0026copy; \\u003ca target=\\&quot;_blank\\&quot; href=\\&quot;http://www.openstreetmap.org/copyright\\&quot;\\u003eOpenStreetMap\\u003c/a\\u003e contributors \\u0026copy; \\u003ca target=\\&quot;_blank\\&quot; href=\\&quot;http://cartodb.com/attributions\\&quot;\\u003eCartoDB\\u003c/a\\u003e, CartoDB \\u003ca target=\\&quot;_blank\\&quot; href =\\&quot;http://cartodb.com/attributions\\&quot;\\u003eattributions\\u003c/a\\u003e&quot;, &quot;detectRetina&quot;: false, &quot;maxNativeZoom&quot;: 18, &quot;maxZoom&quot;: 18, &quot;minZoom&quot;: 0, &quot;noWrap&quot;: false, &quot;opacity&quot;: 1, &quot;subdomains&quot;: &quot;abc&quot;, &quot;tms&quot;: false}\n",
       "            ).addTo(map_5f4cea0452f24703c707e450cdb286f9);\n",
       "        \n",
       "    \n",
       "            var regular_polygon_marker_cf6dc8efe4c61485cfd24a166ecc1309 = new L.RegularPolygonMarker(\n",
       "                [41.167044, -8.649297],\n",
       "                {&quot;bubblingMouseEvents&quot;: true, &quot;color&quot;: &quot;green&quot;, &quot;dashArray&quot;: null, &quot;dashOffset&quot;: null, &quot;fill&quot;: true, &quot;fillColor&quot;: &quot;green&quot;, &quot;fillOpacity&quot;: 0.3, &quot;fillRule&quot;: &quot;evenodd&quot;, &quot;lineCap&quot;: &quot;round&quot;, &quot;lineJoin&quot;: &quot;round&quot;, &quot;numberOfSides&quot;: 4, &quot;opacity&quot;: 1.0, &quot;radius&quot;: 6, &quot;rotation&quot;: 0, &quot;stroke&quot;: true, &quot;weight&quot;: 3}\n",
       "            ).addTo(map_5f4cea0452f24703c707e450cdb286f9);\n",
       "        \n",
       "    \n",
       "        var popup_c23917dee15d69082162b90a118a1074 = L.popup({&quot;maxWidth&quot;: 300});\n",
       "\n",
       "        \n",
       "            \n",
       "                var html_2f41aac2cb860bd3812af44320b0cf28 = $(`&lt;div id=&quot;html_2f41aac2cb860bd3812af44320b0cf28&quot; style=&quot;width: 100.0%; height: 100.0%;&quot;&gt;User: 20000246&lt;BR&gt;Coord: &lt;a href=&quot;https://www.google.co.uk/maps/place/41.167044,-8.649297&quot; target=&quot;_blank&quot;&gt;41.167, -8.6493&lt;/a&gt;&lt;BR&gt;Arr: 2013/07/09 15:47&lt;BR&gt;Dep: 2013/07/09 15:47&lt;/div&gt;`)[0];\n",
       "                popup_c23917dee15d69082162b90a118a1074.setContent(html_2f41aac2cb860bd3812af44320b0cf28);\n",
       "            \n",
       "        \n",
       "\n",
       "        regular_polygon_marker_cf6dc8efe4c61485cfd24a166ecc1309.bindPopup(popup_c23917dee15d69082162b90a118a1074)\n",
       "        ;\n",
       "\n",
       "        \n",
       "    \n",
       "    \n",
       "            var regular_polygon_marker_2d81cc7f4cc4ba4d928d2f68f30b1026 = new L.RegularPolygonMarker(\n",
       "                [41.167017, -8.649117],\n",
       "                {&quot;bubblingMouseEvents&quot;: true, &quot;color&quot;: &quot;green&quot;, &quot;dashArray&quot;: null, &quot;dashOffset&quot;: null, &quot;fill&quot;: true, &quot;fillColor&quot;: &quot;green&quot;, &quot;fillOpacity&quot;: 0.3, &quot;fillRule&quot;: &quot;evenodd&quot;, &quot;lineCap&quot;: &quot;round&quot;, &quot;lineJoin&quot;: &quot;round&quot;, &quot;numberOfSides&quot;: 4, &quot;opacity&quot;: 1.0, &quot;radius&quot;: 6, &quot;rotation&quot;: 0, &quot;stroke&quot;: true, &quot;weight&quot;: 3}\n",
       "            ).addTo(map_5f4cea0452f24703c707e450cdb286f9);\n",
       "        \n",
       "    \n",
       "        var popup_9dbc8e184eeecfc2140429d0123cf522 = L.popup({&quot;maxWidth&quot;: 300});\n",
       "\n",
       "        \n",
       "            \n",
       "                var html_75789adfd7dcc8e835dd69a5c5da3804 = $(`&lt;div id=&quot;html_75789adfd7dcc8e835dd69a5c5da3804&quot; style=&quot;width: 100.0%; height: 100.0%;&quot;&gt;User: 20000246&lt;BR&gt;Coord: &lt;a href=&quot;https://www.google.co.uk/maps/place/41.167017,-8.649117&quot; target=&quot;_blank&quot;&gt;41.167, -8.6491&lt;/a&gt;&lt;BR&gt;Arr: 2013/07/09 15:47&lt;BR&gt;Dep: 2013/07/09 15:47&lt;/div&gt;`)[0];\n",
       "                popup_9dbc8e184eeecfc2140429d0123cf522.setContent(html_75789adfd7dcc8e835dd69a5c5da3804);\n",
       "            \n",
       "        \n",
       "\n",
       "        regular_polygon_marker_2d81cc7f4cc4ba4d928d2f68f30b1026.bindPopup(popup_9dbc8e184eeecfc2140429d0123cf522)\n",
       "        ;\n",
       "\n",
       "        \n",
       "    \n",
       "    \n",
       "        function geo_json_9adc4018d05d5e4184650854c236c407_styler(feature) {\n",
       "            switch(feature.id) {\n",
       "                default:\n",
       "                    return {&quot;color&quot;: &quot;red&quot;, &quot;dashArray&quot;: &quot;5,5&quot;, &quot;opacity&quot;: 0.75, &quot;weight&quot;: 2};\n",
       "            }\n",
       "        }\n",
       "\n",
       "        function geo_json_9adc4018d05d5e4184650854c236c407_onEachFeature(feature, layer) {\n",
       "            layer.on({\n",
       "            });\n",
       "        };\n",
       "        var geo_json_9adc4018d05d5e4184650854c236c407 = L.geoJson(null, {\n",
       "                onEachFeature: geo_json_9adc4018d05d5e4184650854c236c407_onEachFeature,\n",
       "            \n",
       "                style: geo_json_9adc4018d05d5e4184650854c236c407_styler,\n",
       "        });\n",
       "\n",
       "        function geo_json_9adc4018d05d5e4184650854c236c407_add (data) {\n",
       "            geo_json_9adc4018d05d5e4184650854c236c407\n",
       "                .addData(data)\n",
       "                .addTo(map_5f4cea0452f24703c707e450cdb286f9);\n",
       "        }\n",
       "            geo_json_9adc4018d05d5e4184650854c236c407_add({&quot;features&quot;: [{&quot;geometry&quot;: {&quot;coordinates&quot;: [[-8.625348, 41.137605], [-8.625393, 41.137587], [-8.625312, 41.137605], [-8.625186, 41.137506], [-8.62524, 41.136858], [-8.625429, 41.135967], [-8.626734, 41.136192], [-8.628561, 41.136255], [-8.629146, 41.137677], [-8.630766, 41.139225], [-8.633439, 41.139972], [-8.634168, 41.139756], [-8.635842, 41.138991], [-8.639001, 41.138928], [-8.641206, 41.13927], [-8.641953, 41.140971], [-8.641998, 41.142483], [-8.641683, 41.141925], [-8.641746, 41.143131], [-8.641629, 41.145039], [-8.639316, 41.145678], [-8.637579, 41.145336], [-8.635653, 41.144625], [-8.633421, 41.143743], [-8.631252, 41.143104], [-8.629083, 41.142852], [-8.627265, 41.142438], [-8.625447, 41.142087], [-8.623665, 41.141475], [-8.622495, 41.140377], [-8.621379, 41.139315], [-8.620506, 41.138073], [-8.619669, 41.137416], [-8.618454, 41.136921], [-8.616825, 41.136993], [-8.614863, 41.137326], [-8.613549, 41.137677], [-8.612694, 41.137866], [-8.611686, 41.138064], [-8.60985, 41.138793], [-8.609265, 41.139369], [-8.609607, 41.140386], [-8.60994, 41.140773], [-8.610264, 41.140872], [-8.6112, 41.141196], [-8.613225, 41.141484], [-8.613864, 41.141214], [-8.615061, 41.140854], [-8.615115, 41.141097], [-8.615205, 41.141439], [-8.615214, 41.142375], [-8.615016, 41.142789], [-8.614656, 41.142969], [-8.614584, 41.143176], [-8.614449, 41.143419], [-8.61426, 41.143806], [-8.613333, 41.14431], [-8.612334, 41.144733], [-8.611569, 41.144994], [-8.61111, 41.145174], [-8.61093, 41.145804], [-8.61129, 41.145957], [-8.611272, 41.147118], [-8.611128, 41.148873], [-8.61093, 41.150358], [-8.610327, 41.151537], [-8.609895, 41.152851], [-8.609976, 41.153796], [-8.609949, 41.15385], [-8.609949, 41.154363], [-8.609859, 41.155146], [-8.609778, 41.155182], [-8.609769, 41.155191], [-8.609796, 41.155182], [-8.60967, 41.155272], [-8.609679, 41.155281], [-8.609724, 41.155299], [-8.609751, 41.155245], [-8.609715, 41.155227], [-8.609697, 41.155182], [-8.609724, 41.155173], [-8.609724, 41.155155], [-8.609724, 41.155173], [-8.609715, 41.155164], [-8.609688, 41.155146], [-8.609697, 41.155128], [-8.609562, 41.155074], [-8.60958, 41.154291], [-8.609904, 41.1534], [-8.609904, 41.153364], [-8.609796, 41.15196], [-8.610192, 41.150556], [-8.610606, 41.149242], [-8.610939, 41.149143], [-8.610894, 41.149143], [-8.610813, 41.149197], [-8.610786, 41.149206], [-8.611101, 41.149782], [-8.610516, 41.151276], [-8.609958, 41.151996], [-8.609904, 41.15205], [-8.609976, 41.152023], [-8.610066, 41.153301], [-8.610867, 41.153445], [-8.612757, 41.153634], [-8.613297, 41.153832], [-8.613342, 41.153823], [-8.613585, 41.154237], [-8.613567, 41.154174], [-8.613531, 41.154201], [-8.615241, 41.154489], [-8.617419, 41.154876], [-8.619183, 41.15511], [-8.619633, 41.155272], [-8.620983, 41.155362], [-8.6211, 41.154066], [-8.62092, 41.152662], [-8.621073, 41.152635], [-8.621037, 41.152662], [-8.621028, 41.152707], [-8.621037, 41.152716], [-8.649297, 41.167044], [-8.649117, 41.167017], [-8.621946, 41.15277], [-8.624079, 41.152896], [-8.625528, 41.152536], [-8.626518, 41.152203], [-8.627166, 41.152401], [-8.629119, 41.152509], [-8.630559, 41.152797], [-8.630532, 41.153904], [-8.630757, 41.154678], [-8.630658, 41.154948], [-8.630613, 41.154993]], &quot;type&quot;: &quot;LineString&quot;}, &quot;id&quot;: &quot;0&quot;, &quot;type&quot;: &quot;Feature&quot;}], &quot;type&quot;: &quot;FeatureCollection&quot;});\n",
       "\n",
       "        \n",
       "    \n",
       "        function geo_json_aec0418507ef8932209e38d81a9533ba_styler(feature) {\n",
       "            switch(feature.id) {\n",
       "                default:\n",
       "                    return {&quot;color&quot;: &quot;blue&quot;, &quot;dashArray&quot;: &quot;0, 0&quot;, &quot;opacity&quot;: 0.75, &quot;weight&quot;: 2};\n",
       "            }\n",
       "        }\n",
       "\n",
       "        function geo_json_aec0418507ef8932209e38d81a9533ba_onEachFeature(feature, layer) {\n",
       "            layer.on({\n",
       "            });\n",
       "        };\n",
       "        var geo_json_aec0418507ef8932209e38d81a9533ba = L.geoJson(null, {\n",
       "                onEachFeature: geo_json_aec0418507ef8932209e38d81a9533ba_onEachFeature,\n",
       "            \n",
       "                style: geo_json_aec0418507ef8932209e38d81a9533ba_styler,\n",
       "        });\n",
       "\n",
       "        function geo_json_aec0418507ef8932209e38d81a9533ba_add (data) {\n",
       "            geo_json_aec0418507ef8932209e38d81a9533ba\n",
       "                .addData(data)\n",
       "                .addTo(map_5f4cea0452f24703c707e450cdb286f9);\n",
       "        }\n",
       "            geo_json_aec0418507ef8932209e38d81a9533ba_add({&quot;features&quot;: [{&quot;geometry&quot;: {&quot;coordinates&quot;: [[-8.630613, 41.154993], [-8.630658, 41.154948], [-8.630757, 41.154678], [-8.630532, 41.153904], [-8.630559, 41.152797], [-8.629119, 41.152509], [-8.627166, 41.152401], [-8.626518, 41.152203], [-8.625528, 41.152536], [-8.624079, 41.152896], [-8.621946, 41.15277], [-8.621037, 41.152716], [-8.621028, 41.152707], [-8.621037, 41.152662], [-8.621073, 41.152635], [-8.62092, 41.152662], [-8.6211, 41.154066], [-8.620983, 41.155362], [-8.619633, 41.155272], [-8.619183, 41.15511], [-8.617419, 41.154876], [-8.615241, 41.154489], [-8.613531, 41.154201], [-8.613567, 41.154174], [-8.613585, 41.154237], [-8.613342, 41.153823], [-8.613297, 41.153832], [-8.612757, 41.153634], [-8.610867, 41.153445], [-8.610066, 41.153301], [-8.609976, 41.152023], [-8.609904, 41.15205], [-8.609958, 41.151996], [-8.610516, 41.151276], [-8.611101, 41.149782], [-8.610786, 41.149206], [-8.610813, 41.149197], [-8.610894, 41.149143], [-8.610939, 41.149143], [-8.610606, 41.149242], [-8.610192, 41.150556], [-8.609796, 41.15196], [-8.609904, 41.153364], [-8.609904, 41.1534], [-8.60958, 41.154291], [-8.609562, 41.155074], [-8.609697, 41.155128], [-8.609688, 41.155146], [-8.609715, 41.155164], [-8.609724, 41.155173], [-8.609724, 41.155155], [-8.609724, 41.155173], [-8.609697, 41.155182], [-8.609715, 41.155227], [-8.609751, 41.155245], [-8.609724, 41.155299], [-8.609679, 41.155281], [-8.60967, 41.155272], [-8.609796, 41.155182], [-8.609769, 41.155191], [-8.609778, 41.155182], [-8.609859, 41.155146], [-8.609949, 41.154363], [-8.609949, 41.15385], [-8.609976, 41.153796], [-8.609895, 41.152851], [-8.610327, 41.151537], [-8.61093, 41.150358], [-8.611128, 41.148873], [-8.611272, 41.147118], [-8.61129, 41.145957], [-8.61093, 41.145804], [-8.61111, 41.145174], [-8.611569, 41.144994], [-8.612334, 41.144733], [-8.613333, 41.14431], [-8.61426, 41.143806], [-8.614449, 41.143419], [-8.614584, 41.143176], [-8.614656, 41.142969], [-8.615016, 41.142789], [-8.615214, 41.142375], [-8.615205, 41.141439], [-8.615115, 41.141097], [-8.615061, 41.140854], [-8.613864, 41.141214], [-8.613225, 41.141484], [-8.6112, 41.141196], [-8.610264, 41.140872], [-8.60994, 41.140773], [-8.609607, 41.140386], [-8.609265, 41.139369], [-8.60985, 41.138793], [-8.611686, 41.138064], [-8.612694, 41.137866], [-8.613549, 41.137677], [-8.614863, 41.137326], [-8.616825, 41.136993], [-8.618454, 41.136921], [-8.619669, 41.137416], [-8.620506, 41.138073], [-8.621379, 41.139315], [-8.622495, 41.140377], [-8.623665, 41.141475], [-8.625447, 41.142087], [-8.627265, 41.142438], [-8.629083, 41.142852], [-8.631252, 41.143104], [-8.633421, 41.143743], [-8.635653, 41.144625], [-8.637579, 41.145336], [-8.639316, 41.145678], [-8.641629, 41.145039], [-8.641746, 41.143131], [-8.641683, 41.141925], [-8.641998, 41.142483], [-8.641953, 41.140971], [-8.641206, 41.13927], [-8.639001, 41.138928], [-8.635842, 41.138991], [-8.634168, 41.139756], [-8.633439, 41.139972], [-8.630766, 41.139225], [-8.629146, 41.137677], [-8.628561, 41.136255], [-8.626734, 41.136192], [-8.625429, 41.135967], [-8.62524, 41.136858], [-8.625186, 41.137506], [-8.625312, 41.137605], [-8.625393, 41.137587], [-8.625348, 41.137605]], &quot;type&quot;: &quot;LineString&quot;}, &quot;id&quot;: &quot;0&quot;, &quot;type&quot;: &quot;Feature&quot;}], &quot;type&quot;: &quot;FeatureCollection&quot;});\n",
       "\n",
       "        \n",
       "&lt;/script&gt;\n",
       "&lt;/html&gt;\" style=\"position:absolute;width:100%;height:100%;left:0;top:0;border:none !important;\" allowfullscreen webkitallowfullscreen mozallowfullscreen></iframe></div></div>"
      ],
      "text/plain": [
       "<folium.folium.Map at 0x7f8cd56a3090>"
      ]
     },
     "execution_count": 18,
     "metadata": {},
     "output_type": "execute_result"
    }
   ],
   "source": [
    "plot_trajectory_diff(one_tdf, one_tdf_filtered, zoom=14)"
   ]
  },
  {
   "cell_type": "code",
   "execution_count": 19,
   "metadata": {},
   "outputs": [],
   "source": [
    "# Aplica o filtro para toda a amostra\n",
    "sample_filtered = filtering.filter(sample_tdf, max_speed_kmh=160)"
   ]
  },
  {
   "cell_type": "code",
   "execution_count": 20,
   "metadata": {},
   "outputs": [],
   "source": [
    "sample_filtered.to_csv('./train_filtered_sample.csv', index=False)"
   ]
  }
 ],
 "metadata": {
  "kernelspec": {
   "display_name": "CasodeUso",
   "language": "python",
   "name": "python3"
  },
  "language_info": {
   "codemirror_mode": {
    "name": "ipython",
    "version": 3
   },
   "file_extension": ".py",
   "mimetype": "text/x-python",
   "name": "python",
   "nbconvert_exporter": "python",
   "pygments_lexer": "ipython3",
   "version": "3.11.3"
  },
  "orig_nbformat": 4
 },
 "nbformat": 4,
 "nbformat_minor": 2
}
