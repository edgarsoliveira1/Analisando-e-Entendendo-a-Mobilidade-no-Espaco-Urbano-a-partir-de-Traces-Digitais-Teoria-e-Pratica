{
 "cells": [
  {
   "cell_type": "code",
   "execution_count": 22,
   "metadata": {},
   "outputs": [],
   "source": [
    "import pandas as pd\n",
    "import skmob\n",
    "from skmob.preprocessing import detection\n",
    "from warnings import filterwarnings\n",
    "filterwarnings('ignore')"
   ]
  },
  {
   "cell_type": "code",
   "execution_count": 23,
   "metadata": {},
   "outputs": [],
   "source": [
    "sample_filtered = pd.read_csv('./train_filtered_sample.csv')"
   ]
  },
  {
   "cell_type": "code",
   "execution_count": 24,
   "metadata": {},
   "outputs": [],
   "source": [
    "# Pega uma trajetória, com ao menos 1 ponto de parada, como exemplo\n",
    "trip_id_unique = sample_filtered['trip_id'].unique()\n",
    "for trip_id in trip_id_unique:\n",
    "  one_trip = sample_filtered[sample_filtered['trip_id'] == trip_id]\n",
    "  # Transforma trajetória em um objeto TrajDataFrame\n",
    "  one_tdf = skmob.TrajDataFrame(one_trip, latitude='lat', longitude='lon', user_id='taxi_id', datetime='timestamp', crs={'init': 'WGS84'})\n",
    "  # Detecta pontos de parada\n",
    "  one_tdf_POIs = detection.stay_locations(one_tdf, minutes_for_a_stop=5, spatial_radius_km=0.2)\n",
    "  if len(one_tdf_POIs) > 0:\n",
    "    break"
   ]
  },
  {
   "cell_type": "code",
   "execution_count": 25,
   "metadata": {},
   "outputs": [
    {
     "name": "stdout",
     "output_type": "stream",
     "text": [
      "Pontos na trajetória original:\t193\n",
      "Stay Locations:\t\t\t1\n"
     ]
    }
   ],
   "source": [
    "print(f'Pontos na trajetória original:\\t{len(one_tdf)}')\n",
    "print(f'Stay Locations:\\t\\t\\t{len(one_tdf_POIs)}')"
   ]
  },
  {
   "cell_type": "code",
   "execution_count": 26,
   "metadata": {},
   "outputs": [
    {
     "data": {
      "text/html": [
       "<div style=\"width:100%;\"><div style=\"position:relative;width:100%;height:0;padding-bottom:60%;\"><span style=\"color:#565656\">Make this Notebook Trusted to load map: File -> Trust Notebook</span><iframe srcdoc=\"&lt;!DOCTYPE html&gt;\n",
       "&lt;html&gt;\n",
       "&lt;head&gt;\n",
       "    \n",
       "    &lt;meta http-equiv=&quot;content-type&quot; content=&quot;text/html; charset=UTF-8&quot; /&gt;\n",
       "    \n",
       "        &lt;script&gt;\n",
       "            L_NO_TOUCH = false;\n",
       "            L_DISABLE_3D = false;\n",
       "        &lt;/script&gt;\n",
       "    \n",
       "    &lt;style&gt;html, body {width: 100%;height: 100%;margin: 0;padding: 0;}&lt;/style&gt;\n",
       "    &lt;style&gt;#map {position:absolute;top:0;bottom:0;right:0;left:0;}&lt;/style&gt;\n",
       "    &lt;script src=&quot;https://cdn.jsdelivr.net/npm/leaflet@1.9.3/dist/leaflet.js&quot;&gt;&lt;/script&gt;\n",
       "    &lt;script src=&quot;https://code.jquery.com/jquery-1.12.4.min.js&quot;&gt;&lt;/script&gt;\n",
       "    &lt;script src=&quot;https://cdn.jsdelivr.net/npm/bootstrap@5.2.2/dist/js/bootstrap.bundle.min.js&quot;&gt;&lt;/script&gt;\n",
       "    &lt;script src=&quot;https://cdnjs.cloudflare.com/ajax/libs/Leaflet.awesome-markers/2.0.2/leaflet.awesome-markers.js&quot;&gt;&lt;/script&gt;\n",
       "    &lt;link rel=&quot;stylesheet&quot; href=&quot;https://cdn.jsdelivr.net/npm/leaflet@1.9.3/dist/leaflet.css&quot;/&gt;\n",
       "    &lt;link rel=&quot;stylesheet&quot; href=&quot;https://cdn.jsdelivr.net/npm/bootstrap@5.2.2/dist/css/bootstrap.min.css&quot;/&gt;\n",
       "    &lt;link rel=&quot;stylesheet&quot; href=&quot;https://netdna.bootstrapcdn.com/bootstrap/3.0.0/css/bootstrap.min.css&quot;/&gt;\n",
       "    &lt;link rel=&quot;stylesheet&quot; href=&quot;https://cdn.jsdelivr.net/npm/@fortawesome/fontawesome-free@6.2.0/css/all.min.css&quot;/&gt;\n",
       "    &lt;link rel=&quot;stylesheet&quot; href=&quot;https://cdnjs.cloudflare.com/ajax/libs/Leaflet.awesome-markers/2.0.2/leaflet.awesome-markers.css&quot;/&gt;\n",
       "    &lt;link rel=&quot;stylesheet&quot; href=&quot;https://cdn.jsdelivr.net/gh/python-visualization/folium/folium/templates/leaflet.awesome.rotate.min.css&quot;/&gt;\n",
       "    \n",
       "            &lt;meta name=&quot;viewport&quot; content=&quot;width=device-width,\n",
       "                initial-scale=1.0, maximum-scale=1.0, user-scalable=no&quot; /&gt;\n",
       "            &lt;style&gt;\n",
       "                #map_ab37c05b84d8559da1224978f57cffe6 {\n",
       "                    position: relative;\n",
       "                    width: 100.0%;\n",
       "                    height: 100.0%;\n",
       "                    left: 0.0%;\n",
       "                    top: 0.0%;\n",
       "                }\n",
       "                .leaflet-container { font-size: 1rem; }\n",
       "            &lt;/style&gt;\n",
       "        \n",
       "    &lt;script src=&quot;https://cdnjs.cloudflare.com/ajax/libs/leaflet-dvf/0.3.0/leaflet-dvf.markers.min.js&quot;&gt;&lt;/script&gt;\n",
       "&lt;/head&gt;\n",
       "&lt;body&gt;\n",
       "    \n",
       "    \n",
       "            &lt;div class=&quot;folium-map&quot; id=&quot;map_ab37c05b84d8559da1224978f57cffe6&quot; &gt;&lt;/div&gt;\n",
       "        \n",
       "&lt;/body&gt;\n",
       "&lt;script&gt;\n",
       "    \n",
       "    \n",
       "            var map_ab37c05b84d8559da1224978f57cffe6 = L.map(\n",
       "                &quot;map_ab37c05b84d8559da1224978f57cffe6&quot;,\n",
       "                {\n",
       "                    center: [41.1641595, -8.6206995],\n",
       "                    crs: L.CRS.EPSG3857,\n",
       "                    zoom: 20,\n",
       "                    zoomControl: true,\n",
       "                    preferCanvas: false,\n",
       "                }\n",
       "            );\n",
       "            L.control.scale().addTo(map_ab37c05b84d8559da1224978f57cffe6);\n",
       "\n",
       "            \n",
       "\n",
       "        \n",
       "    \n",
       "            var tile_layer_8e9d0f5862b6b3e8f5c4b85730ede678 = L.tileLayer(\n",
       "                &quot;https://cartodb-basemaps-{s}.global.ssl.fastly.net/light_all/{z}/{x}/{y}.png&quot;,\n",
       "                {&quot;attribution&quot;: &quot;\\u0026copy; \\u003ca target=\\&quot;_blank\\&quot; href=\\&quot;http://www.openstreetmap.org/copyright\\&quot;\\u003eOpenStreetMap\\u003c/a\\u003e contributors \\u0026copy; \\u003ca target=\\&quot;_blank\\&quot; href=\\&quot;http://cartodb.com/attributions\\&quot;\\u003eCartoDB\\u003c/a\\u003e, CartoDB \\u003ca target=\\&quot;_blank\\&quot; href =\\&quot;http://cartodb.com/attributions\\&quot;\\u003eattributions\\u003c/a\\u003e&quot;, &quot;detectRetina&quot;: false, &quot;maxNativeZoom&quot;: 18, &quot;maxZoom&quot;: 18, &quot;minZoom&quot;: 0, &quot;noWrap&quot;: false, &quot;opacity&quot;: 1, &quot;subdomains&quot;: &quot;abc&quot;, &quot;tms&quot;: false}\n",
       "            ).addTo(map_ab37c05b84d8559da1224978f57cffe6);\n",
       "        \n",
       "    \n",
       "            var regular_polygon_marker_b436d7799a0764b04b15d3843362fd0e = new L.RegularPolygonMarker(\n",
       "                [41.1641595, -8.6206995],\n",
       "                {&quot;bubblingMouseEvents&quot;: true, &quot;color&quot;: &quot;green&quot;, &quot;dashArray&quot;: null, &quot;dashOffset&quot;: null, &quot;fill&quot;: true, &quot;fillColor&quot;: &quot;green&quot;, &quot;fillOpacity&quot;: 0.3, &quot;fillRule&quot;: &quot;evenodd&quot;, &quot;lineCap&quot;: &quot;round&quot;, &quot;lineJoin&quot;: &quot;round&quot;, &quot;numberOfSides&quot;: 4, &quot;opacity&quot;: 1.0, &quot;radius&quot;: 12, &quot;rotation&quot;: 0, &quot;stroke&quot;: true, &quot;weight&quot;: 3}\n",
       "            ).addTo(map_ab37c05b84d8559da1224978f57cffe6);\n",
       "        \n",
       "    \n",
       "        var popup_0e44c49367870e5a89dd9b4c315d7829 = L.popup({&quot;maxWidth&quot;: 300});\n",
       "\n",
       "        \n",
       "            \n",
       "                var html_e3ae15c94ca3c62f79a0616bdfe71b93 = $(`&lt;div id=&quot;html_e3ae15c94ca3c62f79a0616bdfe71b93&quot; style=&quot;width: 100.0%; height: 100.0%;&quot;&gt;User: 20000020&lt;BR&gt;Coord: &lt;a href=&quot;https://www.google.co.uk/maps/place/41.1641595,-8.6206995&quot; target=&quot;_blank&quot;&gt;41.1642, -8.6207&lt;/a&gt;&lt;BR&gt;Arr: 2014/01/27 15:20&lt;BR&gt;Dep: 2014/01/27 15:41&lt;/div&gt;`)[0];\n",
       "                popup_0e44c49367870e5a89dd9b4c315d7829.setContent(html_e3ae15c94ca3c62f79a0616bdfe71b93);\n",
       "            \n",
       "        \n",
       "\n",
       "        regular_polygon_marker_b436d7799a0764b04b15d3843362fd0e.bindPopup(popup_0e44c49367870e5a89dd9b4c315d7829)\n",
       "        ;\n",
       "\n",
       "        \n",
       "    \n",
       "    \n",
       "        function geo_json_d32b0ea9f3daac74ba6f71c814b854fe_styler(feature) {\n",
       "            switch(feature.id) {\n",
       "                default:\n",
       "                    return {&quot;color&quot;: &quot;red&quot;, &quot;dashArray&quot;: &quot;0, 0&quot;, &quot;opacity&quot;: 0.75, &quot;weight&quot;: 2};\n",
       "            }\n",
       "        }\n",
       "\n",
       "        function geo_json_d32b0ea9f3daac74ba6f71c814b854fe_onEachFeature(feature, layer) {\n",
       "            layer.on({\n",
       "            });\n",
       "        };\n",
       "        var geo_json_d32b0ea9f3daac74ba6f71c814b854fe = L.geoJson(null, {\n",
       "                onEachFeature: geo_json_d32b0ea9f3daac74ba6f71c814b854fe_onEachFeature,\n",
       "            \n",
       "                style: geo_json_d32b0ea9f3daac74ba6f71c814b854fe_styler,\n",
       "        });\n",
       "\n",
       "        function geo_json_d32b0ea9f3daac74ba6f71c814b854fe_add (data) {\n",
       "            geo_json_d32b0ea9f3daac74ba6f71c814b854fe\n",
       "                .addData(data)\n",
       "                .addTo(map_ab37c05b84d8559da1224978f57cffe6);\n",
       "        }\n",
       "            geo_json_d32b0ea9f3daac74ba6f71c814b854fe_add({&quot;features&quot;: [{&quot;geometry&quot;: {&quot;coordinates&quot;: [[-8.604801, 41.161113], [-8.604891, 41.161113], [-8.604873, 41.161167], [-8.604873, 41.161167], [-8.604873, 41.161149], [-8.60499, 41.160762], [-8.604999, 41.160672], [-8.605008, 41.160645], [-8.604828, 41.160447], [-8.604684, 41.160447], [-8.604612, 41.160456], [-8.60418, 41.161005], [-8.604018, 41.161347], [-8.603982, 41.161401], [-8.60391, 41.161599], [-8.604558, 41.161923], [-8.605881, 41.162031], [-8.606475, 41.16213], [-8.606493, 41.16213], [-8.606574, 41.162121], [-8.607591, 41.162265], [-8.609058, 41.16249], [-8.610237, 41.162625], [-8.610876, 41.162679], [-8.610867, 41.162652], [-8.610876, 41.162661], [-8.610876, 41.162652], [-8.611362, 41.162733], [-8.613234, 41.162994], [-8.615313, 41.163237], [-8.618085, 41.163624], [-8.620281, 41.163876], [-8.620344, 41.163885], [-8.620344, 41.163858], [-8.620632, 41.164056], [-8.620587, 41.164452], [-8.620578, 41.164641], [-8.620641, 41.164713], [-8.620614, 41.164587], [-8.620614, 41.164542], [-8.620578, 41.164533], [-8.620578, 41.164533], [-8.620641, 41.164497], [-8.620632, 41.164488], [-8.620632, 41.164488], [-8.620623, 41.164497], [-8.620605, 41.164488], [-8.620587, 41.164488], [-8.620623, 41.164479], [-8.620641, 41.164479], [-8.62065, 41.164488], [-8.620686, 41.164488], [-8.620686, 41.164479], [-8.62065, 41.164461], [-8.620623, 41.164506], [-8.620632, 41.164524], [-8.620614, 41.164488], [-8.620596, 41.164461], [-8.62056, 41.164443], [-8.620488, 41.164425], [-8.62047, 41.16429], [-8.620407, 41.164308], [-8.620416, 41.164281], [-8.620488, 41.164254], [-8.620569, 41.164254], [-8.620596, 41.164272], [-8.620641, 41.164191], [-8.620659, 41.164182], [-8.620677, 41.164191], [-8.620695, 41.164083], [-8.620722, 41.16411], [-8.620722, 41.16411], [-8.620731, 41.164083], [-8.620722, 41.164092], [-8.620731, 41.164101], [-8.620758, 41.164119], [-8.620758, 41.164137], [-8.620767, 41.164119], [-8.620767, 41.164083], [-8.620731, 41.164101], [-8.620722, 41.164146], [-8.620722, 41.164137], [-8.620713, 41.164119], [-8.620704, 41.164119], [-8.620731, 41.164119], [-8.620749, 41.164137], [-8.620758, 41.164155], [-8.620758, 41.164164], [-8.62074, 41.164137], [-8.620731, 41.164119], [-8.620731, 41.164047], [-8.620731, 41.164047], [-8.620704, 41.164074], [-8.620704, 41.164092], [-8.620695, 41.164101], [-8.620713, 41.164119], [-8.620749, 41.164137], [-8.620785, 41.164155], [-8.620785, 41.164164], [-8.620758, 41.164164], [-8.620749, 41.164164], [-8.620749, 41.164173], [-8.620749, 41.164173], [-8.620749, 41.164173], [-8.620731, 41.164173], [-8.620722, 41.164155], [-8.620713, 41.164146], [-8.620704, 41.164137], [-8.620704, 41.164137], [-8.620695, 41.164101], [-8.620677, 41.164083], [-8.620686, 41.164101], [-8.620713, 41.164119], [-8.620722, 41.164128], [-8.620713, 41.164092], [-8.620686, 41.164083], [-8.620731, 41.163741], [-8.620695, 41.162715], [-8.619075, 41.162607], [-8.617464, 41.162481], [-8.616753, 41.162373], [-8.616744, 41.162418], [-8.616168, 41.162373], [-8.614656, 41.162175], [-8.613315, 41.161968], [-8.612451, 41.161824], [-8.611542, 41.161734], [-8.611551, 41.161716], [-8.611542, 41.161734], [-8.611542, 41.161734], [-8.611542, 41.161725], [-8.611542, 41.161707], [-8.610327, 41.161626], [-8.608806, 41.161329], [-8.607519, 41.16114], [-8.607303, 41.161338], [-8.607078, 41.161635], [-8.607033, 41.161698], [-8.607042, 41.161734], [-8.607033, 41.16177], [-8.607042, 41.16177], [-8.606934, 41.161833], [-8.606799, 41.16222], [-8.606781, 41.162328], [-8.606772, 41.162373], [-8.606727, 41.162571], [-8.606745, 41.162616], [-8.606736, 41.162661], [-8.606673, 41.162949], [-8.606556, 41.163327], [-8.606475, 41.163543], [-8.606385, 41.163804], [-8.606349, 41.163921], [-8.606349, 41.163966], [-8.606304, 41.164065], [-8.606367, 41.165172], [-8.606385, 41.165289], [-8.606385, 41.165289], [-8.60643, 41.165676], [-8.606502, 41.166324], [-8.606493, 41.166351], [-8.606493, 41.166351], [-8.606493, 41.166342], [-8.606493, 41.166324], [-8.606493, 41.166351], [-8.607429, 41.166513], [-8.607636, 41.165658], [-8.60841, 41.165622], [-8.608509, 41.164974], [-8.608527, 41.164704], [-8.608536, 41.164686], [-8.608545, 41.164533], [-8.60868, 41.163849], [-8.608797, 41.163606], [-8.608815, 41.163543], [-8.60886, 41.16348], [-8.608977, 41.163129], [-8.609166, 41.162787], [-8.609157, 41.162769], [-8.609148, 41.162769], [-8.609139, 41.162778], [-8.609175, 41.162688], [-8.609553, 41.161617], [-8.609904, 41.160645], [-8.609877, 41.160339], [-8.609724, 41.160303], [-8.60967, 41.160411], [-8.609652, 41.160537], [-8.609634, 41.160483], [-8.609598, 41.160321], [-8.609625, 41.160294], [-8.609634, 41.160267], [-8.609616, 41.160276]], &quot;type&quot;: &quot;LineString&quot;}, &quot;id&quot;: &quot;0&quot;, &quot;type&quot;: &quot;Feature&quot;}], &quot;type&quot;: &quot;FeatureCollection&quot;});\n",
       "\n",
       "        \n",
       "&lt;/script&gt;\n",
       "&lt;/html&gt;\" style=\"position:absolute;width:100%;height:100%;left:0;top:0;border:none !important;\" allowfullscreen webkitallowfullscreen mozallowfullscreen></iframe></div></div>"
      ],
      "text/plain": [
       "<folium.folium.Map at 0x7f333ebdf550>"
      ]
     },
     "execution_count": 26,
     "metadata": {},
     "output_type": "execute_result"
    }
   ],
   "source": [
    "map_f = one_tdf_POIs.plot_stops(zoom=20, hex_color='green')\n",
    "one_tdf.plot_trajectory(map_f=map_f, start_end_markers=False, hex_color='red')"
   ]
  }
 ],
 "metadata": {
  "kernelspec": {
   "display_name": "CasodeUso",
   "language": "python",
   "name": "python3"
  },
  "language_info": {
   "codemirror_mode": {
    "name": "ipython",
    "version": 3
   },
   "file_extension": ".py",
   "mimetype": "text/x-python",
   "name": "python",
   "nbconvert_exporter": "python",
   "pygments_lexer": "ipython3",
   "version": "3.11.3"
  },
  "orig_nbformat": 4
 },
 "nbformat": 4,
 "nbformat_minor": 2
}
