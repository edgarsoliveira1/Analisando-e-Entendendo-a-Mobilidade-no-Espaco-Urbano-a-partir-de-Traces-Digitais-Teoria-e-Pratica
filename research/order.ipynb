{
 "cells": [
  {
   "cell_type": "code",
   "execution_count": 30,
   "metadata": {},
   "outputs": [],
   "source": [
    "new_order = [\n",
    "'Bibliotecas',\n",
    "'\\\\begin{rotate}{60} Trackintel \\\\end{rotate}',\n",
    "'\\\\begin{rotate}{60} Yupi \\\\end{rotate}',\n",
    "'\\\\begin{rotate}{60} Mobilipy \\\\end{rotate}',\n",
    "'\\\\begin{rotate}{60} MobVis \\\\end{rotate}',\n",
    "'\\\\begin{rotate}{60} PTRAIL \\\\end{rotate}',\n",
    "'\\\\begin{rotate}{60} Mobilkit \\\\end{rotate}',\n",
    "'\\\\begin{rotate}{60} Traja \\\\end{rotate}',\n",
    "'\\\\begin{rotate}{60} MovingPandas \\\\end{rotate}',\n",
    "'\\\\begin{rotate}{60} Mobipy \\\\end{rotate}',\n",
    "'\\\\begin{rotate}{60} PyMove \\\\end{rotate}',\n",
    "'\\\\begin{rotate}{60} Scikit-Mobility \\\\end{rotate}',\n",
    "'\\\\begin{rotate}{60} Tracktable \\\\end{rotate}',\n",
    "'\\\\begin{rotate}{60} SMAFramework \\\\end{rotate}',\n",
    "'\\\\begin{rotate}{60} MOCHA \\\\end{rotate}',\n",
    "'\\\\begin{rotate}{60} Teetool \\\\end{rotate}',\n",
    "]"
   ]
  },
  {
   "cell_type": "code",
   "execution_count": 31,
   "metadata": {},
   "outputs": [
    {
     "name": "stdout",
     "output_type": "stream",
     "text": [
      "\\begin{tabular}{llllllllllllllll}\n",
      "\\toprule\n",
      "Bibliotecas & \\begin{rotate}{60} Trackintel \\end{rotate} & \\begin{rotate}{60} Yupi \\end{rotate} & \\begin{rotate}{60} Mobilipy \\end{rotate} & \\begin{rotate}{60} MobVis \\end{rotate} & \\begin{rotate}{60} PTRAIL \\end{rotate} & \\begin{rotate}{60} Mobilkit \\end{rotate} & \\begin{rotate}{60} Traja \\end{rotate} & \\begin{rotate}{60} MovingPandas \\end{rotate} & \\begin{rotate}{60} Mobipy \\end{rotate} & \\begin{rotate}{60} PyMove \\end{rotate} & \\begin{rotate}{60} Scikit-Mobility \\end{rotate} & \\begin{rotate}{60} Tracktable \\end{rotate} & \\begin{rotate}{60} SMAFramework \\end{rotate} & \\begin{rotate}{60} MOCHA \\end{rotate} & \\begin{rotate}{60} Teetool \\end{rotate} \\\\\n",
      "\\midrule\n",
      "Imagens & + & + & - & + & + & + & + & + & - & + & + & + & - & + & + \\\\\n",
      "Gráficos & + & + & - & + & + & + & + & + & - & + & + & + & - & + & + \\\\\n",
      "Mapas Interativos & - & - & + & + & + & - & - & + & - & + & + & - & + & - & - \\\\\n",
      "\\bottomrule\n",
      "\\end{tabular}\n",
      "\n"
     ]
    }
   ],
   "source": [
    "import pandas as pd\n",
    "table = pd.read_csv('./input.csv')\n",
    "table = table[new_order]\n",
    "print(table.to_latex(index=False))"
   ]
  }
 ],
 "metadata": {
  "kernelspec": {
   "display_name": "minicurso",
   "language": "python",
   "name": "python3"
  },
  "language_info": {
   "codemirror_mode": {
    "name": "ipython",
    "version": 3
   },
   "file_extension": ".py",
   "mimetype": "text/x-python",
   "name": "python",
   "nbconvert_exporter": "python",
   "pygments_lexer": "ipython3",
   "version": "3.12.0"
  }
 },
 "nbformat": 4,
 "nbformat_minor": 2
}
